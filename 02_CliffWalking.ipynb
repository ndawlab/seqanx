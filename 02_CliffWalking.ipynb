{
 "cells": [
  {
   "cell_type": "markdown",
   "metadata": {},
   "source": [
    "# Demonstration 2: Cliff Walking"
   ]
  },
  {
   "cell_type": "code",
   "execution_count": 1,
   "metadata": {},
   "outputs": [],
   "source": [
    "import numpy as np\n",
    "import matplotlib.pyplot as plt\n",
    "import matplotlib.gridspec as gridspec\n",
    "import seaborn as sns\n",
    "from sisyphus.envs import CliffWalking\n",
    "from mpl_toolkits.axes_grid1 import make_axes_locatable\n",
    "sns.set_style('white')\n",
    "sns.set_context('notebook', font_scale=1.5)\n",
    "%matplotlib inline"
   ]
  },
  {
   "cell_type": "markdown",
   "metadata": {},
   "source": [
    "## Value Iteration"
   ]
  },
  {
   "cell_type": "code",
   "execution_count": 2,
   "metadata": {},
   "outputs": [
    {
     "data": {
      "image/png": "[encoded data removed]",
      "text/plain": [
       "<Figure size 1080x252 with 5 Axes>"
      ]
     },
     "metadata": {
      "needs_background": "light"
     },
     "output_type": "display_data"
    }
   ],
   "source": [
    "from sisyphus.mdp import ValueIteration\n",
    "from palettable.cmocean.sequential import Amp_20_r as palette\n",
    "\n",
    "#~~~~~~~~~~~~~~~~~~~~~~~~~~~~~~~~~~~~~~~~~~#\n",
    "### Define parameters.\n",
    "#~~~~~~~~~~~~~~~~~~~~~~~~~~~~~~~~~~~~~~~~~~#\n",
    "\n",
    "## Simulation parameters.\n",
    "betas = [1.0, 0.8, 0.6]\n",
    "\n",
    "#~~~~~~~~~~~~~~~~~~~~~~~~~~~~~~~~~~~~~~~~~~#\n",
    "### Value iteration.\n",
    "#~~~~~~~~~~~~~~~~~~~~~~~~~~~~~~~~~~~~~~~~~~#\n",
    "\n",
    "## Initialize environment.\n",
    "gym = CliffWalking()\n",
    "\n",
    "## Preallocate space.\n",
    "V = np.zeros((3,*gym.shape))\n",
    "pi = []\n",
    "\n",
    "for i, beta in enumerate(betas):\n",
    "    \n",
    "    ## Initialize value iteration.\n",
    "    qvi = ValueIteration(policy='betamax', gamma=1, beta=beta)\n",
    "    \n",
    "    ## Solve for Q-values.\n",
    "    qvi = qvi.fit(gym, verbose=False)\n",
    "    V[i] = qvi.V.reshape(gym.shape)\n",
    "    \n",
    "    ## Solve for policy.\n",
    "    pi.append( qvi.pi )\n",
    "    \n",
    "## Fill in terminal states.\n",
    "V[:,-1, 1:] = -100\n",
    "V[:,-1, -1] = 0\n",
    "\n",
    "#~~~~~~~~~~~~~~~~~~~~~~~~~~~~~~~~~~~~~~~~~~#\n",
    "### Plotting.\n",
    "#~~~~~~~~~~~~~~~~~~~~~~~~~~~~~~~~~~~~~~~~~~#\n",
    "    \n",
    "## Initialize figure.\n",
    "fig = plt.figure(figsize=(15,3.5))\n",
    "cmap = palette.get_mpl_colormap()\n",
    "colors = palette.hex_colors\n",
    "\n",
    "## Initialize plots and divider.\n",
    "gs = gridspec.GridSpec(1,4)\n",
    "gs.update(left=0.01, right=0.94, bottom=0.04, top=0.9, hspace=0, wspace=0.02)\n",
    "\n",
    "## Plot environment.\n",
    "annot_kws = annot_kws=dict(fontsize=18,fontweight='semibold',color='k')\n",
    "ax = gym.plot_cliff(annot_kws=annot_kws, ax=plt.subplot(gs[0]))\n",
    "\n",
    "## Scale values for clarity.\n",
    "Vscale = -np.log(np.abs(V)+1)\n",
    "\n",
    "## Iteratively plot.\n",
    "for i, beta in enumerate(betas):\n",
    "    \n",
    "    ## Initialize canvas.\n",
    "    ax = plt.subplot(gs[i+1])\n",
    "    \n",
    "    if i < 2: \n",
    "        \n",
    "        ## Plot heatmap.\n",
    "        sns.heatmap(Vscale[i], cmap=cmap, vmin=-4.61, vmax=0, cbar=False, ax=ax)\n",
    "        \n",
    "    else:\n",
    "        \n",
    "        ## Divide canvas for colorbar.\n",
    "        divider = make_axes_locatable(ax)\n",
    "        cax = divider.append_axes(\"right\", size=\"5%\", pad=0.05)\n",
    "        \n",
    "        ## Plot heatmap.\n",
    "        ax = sns.heatmap(Vscale[i], vmin=-4.61, vmax=0, cmap=cmap, cbar=True, ax=ax, cbar_ax=cax)\n",
    "        \n",
    "        ## Update heatmap ticklabels.\n",
    "        cbar = ax.collections[0].colorbar\n",
    "        cbar.set_ticks(-np.linspace(0,4.61,5))\n",
    "        ticklabels = -np.exp(np.linspace(0,4.61,5)).astype(int)\n",
    "        ticklabels[0] = 0\n",
    "        cbar.set_ticklabels(ticklabels)\n",
    "    \n",
    "    ## Plot policy.\n",
    "    ax = gym.plot_policy(ax, pi[i])\n",
    "    \n",
    "    ## Clean up image.\n",
    "    ax.set(xticklabels=[], yticklabels=[], title=r'$\\beta=%0.1f$' %beta)\n",
    "\n",
    "## Update colobar.\n",
    "cbar = ax.collections[0].colorbar\n",
    "cbar.set_label(r'Value ($V$)')\n",
    "    \n",
    "plt.savefig('figures/02_cliff.png', dpi=180)"
   ]
  }
 ],
 "metadata": {
  "kernelspec": {
   "display_name": "Python 3",
   "language": "python",
   "name": "python3"
  },
  "language_info": {
   "codemirror_mode": {
    "name": "ipython",
    "version": 3
   },
   "file_extension": ".py",
   "mimetype": "text/x-python",
   "name": "python",
   "nbconvert_exporter": "python",
   "pygments_lexer": "ipython3",
   "version": "3.7.1"
  }
 },
 "nbformat": 4,
 "nbformat_minor": 2
}
