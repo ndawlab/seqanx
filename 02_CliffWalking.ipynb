{
 "cells": [
  {
   "cell_type": "markdown",
   "metadata": {},
   "source": [
    "# Demonstration 2: Cliff Walking"
   ]
  },
  {
   "cell_type": "code",
   "execution_count": null,
   "metadata": {},
   "outputs": [],
   "source": [
    "import numpy as np\n",
    "import matplotlib.pyplot as plt\n",
    "import seaborn as sns\n",
    "from sisyphus import ValueIteration\n",
    "%matplotlib inline"
   ]
  },
  {
   "cell_type": "markdown",
   "metadata": {},
   "source": [
    "## Value Iteration"
   ]
  },
  {
   "cell_type": "markdown",
   "metadata": {},
   "source": [
    "### Betamax"
   ]
  },
  {
   "cell_type": "code",
   "execution_count": null,
   "metadata": {},
   "outputs": [],
   "source": [
    "from sisyphus.envs import CliffWalking\n",
    "\n",
    "## Initialize canvas.\n",
    "fig, axes = plt.subplots(1,3,figsize=(12,4))\n",
    "\n",
    "## Initialize environment.\n",
    "gym = CliffWalking()\n",
    "\n",
    "for ax, beta in zip(axes, [1,0.9,0.8]):\n",
    "    \n",
    "    ## Perform Q-value iteration.\n",
    "    qvi = ValueIteration(policy='betamax', beta=beta)\n",
    "    qvi = qvi.fit(gym)\n",
    "    \n",
    "    ## Plot state values.\n",
    "    V = qvi.V.copy()\n",
    "    V[gym.terminal] = np.nan\n",
    "    sns.heatmap(V.reshape(gym.shape), vmin=-16, vmax=0, xticklabels=[], yticklabels=[], \n",
    "                cmap='Greys_r', cbar=False, ax=ax)\n",
    "    \n",
    "    ## Plot policy.\n",
    "    y, x = np.where(np.isin(gym.grid, qvi.pi))\n",
    "    ax.scatter(x + 0.5,y + 0.5, marker='s', color='purple')\n",
    "    \n",
    "plt.tight_layout()\n",
    "plt.savefig('figures/02_cliff_betamax.png', dpi=180)"
   ]
  },
  {
   "cell_type": "markdown",
   "metadata": {},
   "source": [
    "### Softmax"
   ]
  },
  {
   "cell_type": "code",
   "execution_count": 6,
   "metadata": {},
   "outputs": [
    {
     "data": {
      "image/png": "[encoded data removed]",
      "text/plain": [
       "<Figure size 864x288 with 3 Axes>"
      ]
     },
     "metadata": {},
     "output_type": "display_data"
    }
   ],
   "source": [
    "from sisyphus.envs import CliffWalking\n",
    "\n",
    "## Initialize canvas.\n",
    "fig, axes = plt.subplots(1,3,figsize=(12,4))\n",
    "\n",
    "## Initialize environment.\n",
    "gym = CliffWalking()\n",
    "\n",
    "for ax, beta in zip(axes, [10, 1e-1, 5e-2]):\n",
    "    \n",
    "    ## Perform Q-value iteration.\n",
    "    qvi = ValueIteration(policy='softmax', beta=beta)\n",
    "    qvi = qvi.fit(gym)\n",
    "    \n",
    "    ## Plot state values.\n",
    "    V = qvi.V.copy()\n",
    "    V[gym.terminal] = np.nan\n",
    "    sns.heatmap(V.reshape(gym.shape), vmin=-16, vmax=0, xticklabels=[], yticklabels=[], \n",
    "                cmap='Greys_r', cbar=False, ax=ax)\n",
    "    \n",
    "    ## Plot policy.\n",
    "    y, x = np.where(np.isin(gym.grid, qvi.pi))\n",
    "    ax.scatter(x + 0.5,y + 0.5, marker='s', color='purple')\n",
    "    \n",
    "plt.tight_layout()\n",
    "plt.savefig('figures/02_cliff_softmax.png', dpi=180)"
   ]
  }
 ],
 "metadata": {
  "kernelspec": {
   "display_name": "Python 3",
   "language": "python",
   "name": "python3"
  },
  "language_info": {
   "codemirror_mode": {
    "name": "ipython",
    "version": 3
   },
   "file_extension": ".py",
   "mimetype": "text/x-python",
   "name": "python",
   "nbconvert_exporter": "python",
   "pygments_lexer": "ipython3",
   "version": "3.7.0"
  }
 },
 "nbformat": 4,
 "nbformat_minor": 2
}
