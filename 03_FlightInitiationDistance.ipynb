{
 "cells": [
  {
   "cell_type": "markdown",
   "metadata": {},
   "source": [
    "# Demonstration 3: Flight Initiation Distance"
   ]
  },
  {
   "cell_type": "code",
   "execution_count": null,
   "metadata": {},
   "outputs": [],
   "source": [
    "import numpy as np\n",
    "import matplotlib.pyplot as plt\n",
    "import seaborn as sns\n",
    "from sisyphus.envs import FlightInitiationDistance\n",
    "%matplotlib inline"
   ]
  },
  {
   "cell_type": "markdown",
   "metadata": {},
   "source": [
    "## Value Iteration"
   ]
  },
  {
   "cell_type": "code",
   "execution_count": 55,
   "metadata": {},
   "outputs": [
    {
     "data": {
      "image/png": "[encoded data removed]",
      "text/plain": [
       "<Figure size 864x432 with 6 Axes>"
      ]
     },
     "metadata": {
      "needs_background": "light"
     },
     "output_type": "display_data"
    }
   ],
   "source": [
    "from sisyphus import ValueIteration\n",
    "\n",
    "## Initialize canvas.\n",
    "fig, axes = plt.subplots(3,1,figsize=(12,6))\n",
    "\n",
    "## Initialize environment.\n",
    "runway = 20\n",
    "gym = FlightInitiationDistance(runway=runway, mu=15, sd=0.1, shock=-100)\n",
    "\n",
    "for ax, beta in zip(axes, [1,0.8,0.6]):\n",
    "    \n",
    "    ## Perform Q-value iteration.\n",
    "    qvi = ValueIteration(policy='betamax', beta=beta, gamma=0.99)\n",
    "    qvi = qvi.fit(gym)\n",
    "    \n",
    "    ## Plot state values.   \n",
    "    V = qvi.V.copy()\n",
    "    V[~np.isin(gym.states, qvi.pi[:-1])] = np.nan\n",
    "    sns.heatmap(V.reshape(1,-1), vmin=0, vmax=runway, xticklabels=[], yticklabels=[],\n",
    "                linewidths=1, linecolor='0.2', ax=ax)\n",
    "    \n",
    "    ## Plot policy.\n",
    "    x = np.array(qvi.pi[:-1])\n",
    "    y = np.zeros_like(x)\n",
    "    ax.scatter(x + 0.5,y + 0.5, marker='s', color='k')\n",
    "    \n",
    "plt.tight_layout()\n",
    "plt.savefig('figures/03_fid.png', dpi=180)"
   ]
  }
 ],
 "metadata": {
  "kernelspec": {
   "display_name": "Python 3",
   "language": "python",
   "name": "python3"
  },
  "language_info": {
   "codemirror_mode": {
    "name": "ipython",
    "version": 3
   },
   "file_extension": ".py",
   "mimetype": "text/x-python",
   "name": "python",
   "nbconvert_exporter": "python",
   "pygments_lexer": "ipython3",
   "version": "3.7.0"
  }
 },
 "nbformat": 4,
 "nbformat_minor": 2
}
