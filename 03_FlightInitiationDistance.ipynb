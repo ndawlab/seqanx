{
 "cells": [
  {
   "cell_type": "markdown",
   "metadata": {},
   "source": [
    "# Demonstration 3: Flight Initiation Distance"
   ]
  },
  {
   "cell_type": "code",
   "execution_count": 1,
   "metadata": {},
   "outputs": [],
   "source": [
    "import numpy as np\n",
    "import matplotlib.pyplot as plt\n",
    "import matplotlib.gridspec as gridspec\n",
    "import seaborn as sns\n",
    "from sisyphus.envs import FlightInitiationDistance\n",
    "from mpl_toolkits.axes_grid1 import make_axes_locatable\n",
    "sns.set_style('white')\n",
    "sns.set_context('notebook', font_scale=1.25)\n",
    "%matplotlib inline"
   ]
  },
  {
   "cell_type": "markdown",
   "metadata": {},
   "source": [
    "## Value Iteration"
   ]
  },
  {
   "cell_type": "code",
   "execution_count": 2,
   "metadata": {},
   "outputs": [
    {
     "data": {
      "image/png": "[encoded data removed]",
      "text/plain": [
       "<Figure size 864x216 with 3 Axes>"
      ]
     },
     "metadata": {
      "needs_background": "light"
     },
     "output_type": "display_data"
    }
   ],
   "source": [
    "from sisyphus.mdp import ValueIteration\n",
    "from scipy.stats import norm\n",
    "from palettable.colorbrewer.sequential import Blues_9 as palette\n",
    "\n",
    "#~~~~~~~~~~~~~~~~~~~~~~~~~~~~~~~~~~~~~~~~~~#\n",
    "### Define parameters.\n",
    "#~~~~~~~~~~~~~~~~~~~~~~~~~~~~~~~~~~~~~~~~~~#\n",
    "\n",
    "## Simulation parameters.\n",
    "betas = [1.0, 0.8, 0.6]\n",
    "\n",
    "## Environment parameters.\n",
    "runway = 20\n",
    "mu = 15\n",
    "sd = 0.5\n",
    "shock = -100\n",
    "\n",
    "#~~~~~~~~~~~~~~~~~~~~~~~~~~~~~~~~~~~~~~~~~~#\n",
    "### Value Iteration.\n",
    "#~~~~~~~~~~~~~~~~~~~~~~~~~~~~~~~~~~~~~~~~~~#\n",
    "\n",
    "## Initialize environment.\n",
    "gym = FlightInitiationDistance(runway=runway, mu=mu, sd=sd, shock=shock)\n",
    "\n",
    "V = np.zeros((len(betas), gym.n_viable_states))\n",
    "for i, beta in enumerate(betas):\n",
    "    \n",
    "    ## Initialize value iteration.\n",
    "    qvi = ValueIteration(policy='betamax', gamma=1.0, beta=beta)\n",
    "    \n",
    "    ## Solve for Q-values.\n",
    "    qvi  = qvi.fit(gym)\n",
    "    \n",
    "    ## Solve for state values.\n",
    "    V[i] = qvi.V[gym.viable_states].copy()\n",
    "    V[i,~np.isin(gym.viable_states, qvi.pi[:-1])] = np.nan    # Mask states post-flight.\n",
    "\n",
    "#~~~~~~~~~~~~~~~~~~~~~~~~~~~~~~~~~~~~~~~~~~#\n",
    "### Plotting.\n",
    "#~~~~~~~~~~~~~~~~~~~~~~~~~~~~~~~~~~~~~~~~~~#\n",
    "\n",
    "## Initialize figure.\n",
    "fig = plt.figure(figsize=(12,3))\n",
    "cmap = palette.get_mpl_colormap()\n",
    "\n",
    "## Initialize environment plot.\n",
    "gs = gridspec.GridSpec(1,1)\n",
    "gs.update(left=0.01, right=0.937, bottom=0.80, top=1.0, hspace=0.0)\n",
    "ax = plt.subplot(gs[0])\n",
    "\n",
    "## Plot environment.\n",
    "x = np.linspace(0, runway, 1000)\n",
    "# ax.yaxis.tick_right()\n",
    "ax.plot(x, norm(mu, sd).cdf(x), lw=3.5, color='0.25')\n",
    "ax.set(xlim=(0, runway), xticks=[], ylim=(-0.06, 1.06), yticks=[])\n",
    "sns.despine(ax=ax)\n",
    "\n",
    "## Initialize state plots.\n",
    "gs = gridspec.GridSpec(1,1)\n",
    "gs.update(left=0.01, right=0.95, bottom=0.05, top=0.80, hspace=0.0)\n",
    "    \n",
    "## Initialize canvas. \n",
    "ax = plt.subplot(gs[0])\n",
    "divider = make_axes_locatable(ax)\n",
    "cax = divider.append_axes(\"right\", size=\"1%\", pad=0.05)\n",
    "        \n",
    "## Plot state values.\n",
    "sns.heatmap(V, cmap=cmap, vmin=0, vmax=runway, xticklabels=[], \n",
    "            yticklabels=[], linewidths=1, linecolor='0.2', ax=ax, cbar_ax=cax)\n",
    "    \n",
    "plt.savefig('figures/03_fid.png', dpi=180)"
   ]
  }
 ],
 "metadata": {
  "kernelspec": {
   "display_name": "Python 3",
   "language": "python",
   "name": "python3"
  },
  "language_info": {
   "codemirror_mode": {
    "name": "ipython",
    "version": 3
   },
   "file_extension": ".py",
   "mimetype": "text/x-python",
   "name": "python",
   "nbconvert_exporter": "python",
   "pygments_lexer": "ipython3",
   "version": "3.7.1"
  }
 },
 "nbformat": 4,
 "nbformat_minor": 2
}
