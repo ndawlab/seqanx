{
 "cells": [
  {
   "cell_type": "markdown",
   "metadata": {},
   "source": [
    "# Demonstration 1: Open Field"
   ]
  },
  {
   "cell_type": "code",
   "execution_count": null,
   "metadata": {},
   "outputs": [],
   "source": [
    "import numpy as np\n",
    "import matplotlib.pyplot as plt\n",
    "import seaborn as sns\n",
    "from sisyphus import ValueIteration\n",
    "%matplotlib inline"
   ]
  },
  {
   "cell_type": "markdown",
   "metadata": {},
   "source": [
    "## Value Iteration"
   ]
  },
  {
   "cell_type": "code",
   "execution_count": null,
   "metadata": {},
   "outputs": [],
   "source": [
    "from sisyphus.envs import OpenField\n",
    "\n",
    "fig, axes = plt.subplots(1,3,figsize=(12,4))\n",
    "gym = OpenField()\n",
    "\n",
    "for ax, beta in zip(axes, [10,0,-10]):\n",
    "    qvi = ValueIteration(policy='softmax', beta=beta)\n",
    "    qvi = qvi.fit(gym)\n",
    "    sns.heatmap(qvi.V.reshape(gym.shape), center=0, vmin=-10, vmax=10, ax=ax,\n",
    "                xticklabels=[], yticklabels=[], cbar=False)\n",
    "    \n",
    "plt.tight_layout()\n",
    "plt.savefig('figures/01_field.png', dpi=180)"
   ]
  }
 ],
 "metadata": {
  "kernelspec": {
   "display_name": "Python 3",
   "language": "python",
   "name": "python3"
  },
  "language_info": {
   "codemirror_mode": {
    "name": "ipython",
    "version": 3
   },
   "file_extension": ".py",
   "mimetype": "text/x-python",
   "name": "python",
   "nbconvert_exporter": "python",
   "pygments_lexer": "ipython3",
   "version": "3.7.0"
  }
 },
 "nbformat": 4,
 "nbformat_minor": 2
}
