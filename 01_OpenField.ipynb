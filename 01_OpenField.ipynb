{
 "cells": [
  {
   "cell_type": "markdown",
   "metadata": {},
   "source": [
    "# Demonstration 1: Open Field"
   ]
  },
  {
   "cell_type": "code",
   "execution_count": 1,
   "metadata": {},
   "outputs": [],
   "source": [
    "import numpy as np\n",
    "import matplotlib.pyplot as plt\n",
    "import matplotlib.gridspec as gridspec\n",
    "import seaborn as sns\n",
    "from sisyphus.envs import OpenField\n",
    "from mpl_toolkits.axes_grid1 import make_axes_locatable\n",
    "sns.set_style('white')\n",
    "sns.set_context('notebook', font_scale=1.25)\n",
    "%matplotlib inline"
   ]
  },
  {
   "cell_type": "markdown",
   "metadata": {},
   "source": [
    "## Value Iteration"
   ]
  },
  {
   "cell_type": "code",
   "execution_count": 2,
   "metadata": {},
   "outputs": [
    {
     "data": {
      "image/png": "[encoded data removed]",
      "text/plain": [
       "<Figure size 864x252 with 4 Axes>"
      ]
     },
     "metadata": {
      "needs_background": "light"
     },
     "output_type": "display_data"
    }
   ],
   "source": [
    "from sisyphus import ValueIteration\n",
    "\n",
    "#~~~~~~~~~~~~~~~~~~~~~~~~~~~~~~~~~~~~~~~~~~#\n",
    "### Value Iteration.\n",
    "#~~~~~~~~~~~~~~~~~~~~~~~~~~~~~~~~~~~~~~~~~~#\n",
    "\n",
    "## Initialize environment.\n",
    "gym = OpenField()\n",
    "\n",
    "V = np.zeros((3,*gym.shape))\n",
    "for i, beta in enumerate([1.0,0.5,0.0]):\n",
    "    \n",
    "    ## Initialize value iteration.\n",
    "    qvi = ValueIteration(policy='betamax', gamma=0.9, beta=beta)\n",
    "    \n",
    "    ## Solve for Q-values.\n",
    "    qvi = qvi.fit(gym)\n",
    "    V[i] = qvi.V.reshape(gym.shape)\n",
    "    \n",
    "## Fill in terminal states.\n",
    "V[:,5,[2,-3]] = [10, -10]\n",
    "\n",
    "#~~~~~~~~~~~~~~~~~~~~~~~~~~~~~~~~~~~~~~~~~~#\n",
    "### Plotting.\n",
    "#~~~~~~~~~~~~~~~~~~~~~~~~~~~~~~~~~~~~~~~~~~#\n",
    "    \n",
    "## Initialize figure.\n",
    "fig = plt.figure(figsize=(12,3.5))\n",
    "\n",
    "## Initialize plots and divider.\n",
    "gs = gridspec.GridSpec(1,3)\n",
    "gs.update(left=0.05, right=0.95, bottom=0.05, top=0.95, hspace=0, wspace=0.02)\n",
    "\n",
    "## Plot best-case learning (beta = 1).\n",
    "ax = plt.subplot(gs[0])\n",
    "sns.heatmap(V[0], center=0, vmin=-10, vmax=10, cbar=False,\n",
    "            xticklabels=[], yticklabels=[], ax=ax)\n",
    "ax.set_title(r'Best-Case ($\\beta=1.0$)')\n",
    "\n",
    "## Plot random learning (beta = 0.5).\n",
    "ax = plt.subplot(gs[1])\n",
    "sns.heatmap(V[1], center=0, vmin=-10, vmax=10, cbar=False, \n",
    "            xticklabels=[], yticklabels=[], ax=ax)\n",
    "ax.set_title(r'Random ($\\beta=0.5$)')\n",
    "\n",
    "## Plot worst-case learning (beta = 0.0).\n",
    "ax = plt.subplot(gs[2])\n",
    "divider = make_axes_locatable(ax)\n",
    "cax = divider.append_axes(\"right\", size=\"5%\", pad=0.05)\n",
    "sns.heatmap(V[2], center=0, vmin=-10, vmax=10, cbar=True,\n",
    "            xticklabels=[], yticklabels=[], ax=ax, cbar_ax=cax)\n",
    "ax.set_title(r'Worst-Case ($\\beta=0.0$)')\n",
    "\n",
    "## Update colorbar.\n",
    "cbar = ax.collections[0].colorbar\n",
    "cbar.set_label(r'Value ($V$)')\n",
    "\n",
    "plt.savefig('figures/01_field.png', dpi=180)"
   ]
  }
 ],
 "metadata": {
  "kernelspec": {
   "display_name": "Python 3",
   "language": "python",
   "name": "python3"
  },
  "language_info": {
   "codemirror_mode": {
    "name": "ipython",
    "version": 3
   },
   "file_extension": ".py",
   "mimetype": "text/x-python",
   "name": "python",
   "nbconvert_exporter": "python",
   "pygments_lexer": "ipython3",
   "version": "3.7.0"
  }
 },
 "nbformat": 4,
 "nbformat_minor": 2
}
