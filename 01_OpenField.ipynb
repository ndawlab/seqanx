{
 "cells": [
  {
   "cell_type": "markdown",
   "metadata": {},
   "source": [
    "# Demonstration 1: Open Field"
   ]
  },
  {
   "cell_type": "code",
   "execution_count": 1,
   "metadata": {},
   "outputs": [],
   "source": [
    "import numpy as np\n",
    "import matplotlib.pyplot as plt\n",
    "import matplotlib.gridspec as gridspec\n",
    "import seaborn as sns\n",
    "from sisyphus.envs import OpenField\n",
    "from mpl_toolkits.axes_grid1 import make_axes_locatable\n",
    "sns.set_style('white')\n",
    "sns.set_context('notebook', font_scale=1.5)\n",
    "%matplotlib inline"
   ]
  },
  {
   "cell_type": "markdown",
   "metadata": {},
   "source": [
    "## Value Iteration"
   ]
  },
  {
   "cell_type": "code",
   "execution_count": 2,
   "metadata": {},
   "outputs": [
    {
     "data": {
      "image/png": "[encoded data removed]",
      "text/plain": [
       "<Figure size 1080x252 with 5 Axes>"
      ]
     },
     "metadata": {
      "needs_background": "light"
     },
     "output_type": "display_data"
    }
   ],
   "source": [
    "from sisyphus.mdp import ValueIteration\n",
    "from sisyphus.viz import plot_field\n",
    "\n",
    "#~~~~~~~~~~~~~~~~~~~~~~~~~~~~~~~~~~~~~~~~~~#\n",
    "### Value Iteration.\n",
    "#~~~~~~~~~~~~~~~~~~~~~~~~~~~~~~~~~~~~~~~~~~#\n",
    "\n",
    "## Initialize environment.\n",
    "gym = OpenField()\n",
    "\n",
    "V = np.zeros((3,*gym.shape))\n",
    "for i, beta in enumerate([1.0,0.5,0.0]):\n",
    "    \n",
    "    ## Initialize value iteration.\n",
    "    qvi = ValueIteration(policy='betamax', gamma=0.95, beta=beta)\n",
    "    \n",
    "    ## Solve for Q-values.\n",
    "    qvi = qvi.fit(gym)\n",
    "    V[i] = qvi.V.reshape(gym.shape)\n",
    "    \n",
    "## Fill in terminal states.\n",
    "V[:,5,[2,-3]] = [10, -10]\n",
    "\n",
    "#~~~~~~~~~~~~~~~~~~~~~~~~~~~~~~~~~~~~~~~~~~#\n",
    "### Plotting.\n",
    "#~~~~~~~~~~~~~~~~~~~~~~~~~~~~~~~~~~~~~~~~~~#\n",
    "    \n",
    "## Initialize figure.\n",
    "fig = plt.figure(figsize=(15,3.5))\n",
    "cmap = sns.cubehelix_palette(dark=0.1, light=0.9, reverse=True, as_cmap=True)\n",
    "\n",
    "## Initialize plots and divider.\n",
    "gs = gridspec.GridSpec(1,4)\n",
    "gs.update(left=0.01, right=0.94, bottom=0.04, top=0.9, hspace=0, wspace=0.02)\n",
    "\n",
    "## Plot environment.\n",
    "ax = plot_field(plt.subplot(gs[0]))\n",
    "ax.set_title(r'Open Field')\n",
    "\n",
    "## Plot best-case learning (beta = 1).\n",
    "ax = plt.subplot(gs[1])\n",
    "sns.heatmap(V[0], cmap=cmap, center=0, vmin=-10, vmax=10, cbar=False,\n",
    "            xticklabels=[], yticklabels=[], ax=ax)\n",
    "ax.set_title(r'Best-Case ($\\beta=1.0$)')\n",
    "\n",
    "## Plot random learning (beta = 0.5).\n",
    "ax = plt.subplot(gs[2])\n",
    "sns.heatmap(V[1], cmap=cmap, center=0, vmin=-10, vmax=10, cbar=False, \n",
    "            xticklabels=[], yticklabels=[], ax=ax)\n",
    "ax.set_title(r'Random ($\\beta=0.5$)')\n",
    "\n",
    "## Plot worst-case learning (beta = 0.0).\n",
    "ax = plt.subplot(gs[3])\n",
    "divider = make_axes_locatable(ax)\n",
    "cax = divider.append_axes(\"right\", size=\"5%\", pad=0.05)\n",
    "sns.heatmap(V[2], cmap=cmap, center=0, vmin=-10, vmax=10, cbar=True,\n",
    "            xticklabels=[], yticklabels=[], ax=ax, cbar_ax=cax)\n",
    "ax.set_title(r'Worst-Case ($\\beta=0.0$)')\n",
    "\n",
    "## Update colorbar.\n",
    "cbar = ax.collections[0].colorbar\n",
    "cbar.set_label(r'Value ($V$)')\n",
    "\n",
    "plt.savefig('figures/01_field.png', dpi=180)"
   ]
  }
 ],
 "metadata": {
  "kernelspec": {
   "display_name": "Python 3",
   "language": "python",
   "name": "python3"
  },
  "language_info": {
   "codemirror_mode": {
    "name": "ipython",
    "version": 3
   },
   "file_extension": ".py",
   "mimetype": "text/x-python",
   "name": "python",
   "nbconvert_exporter": "python",
   "pygments_lexer": "ipython3",
   "version": "3.7.0"
  }
 },
 "nbformat": 4,
 "nbformat_minor": 2
}
