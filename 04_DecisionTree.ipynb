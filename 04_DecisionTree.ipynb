{
 "cells": [
  {
   "cell_type": "markdown",
   "metadata": {},
   "source": [
    "# Demonstration 5: Decision Tree"
   ]
  },
  {
   "cell_type": "code",
   "execution_count": 1,
   "metadata": {},
   "outputs": [],
   "source": [
    "import numpy as np\n",
    "import matplotlib.pyplot as plt\n",
    "import seaborn as sns\n",
    "from sisyphus.envs import DecisionTree\n",
    "%matplotlib inline"
   ]
  },
  {
   "cell_type": "markdown",
   "metadata": {},
   "source": [
    "## Value Iteration"
   ]
  },
  {
   "cell_type": "code",
   "execution_count": 2,
   "metadata": {},
   "outputs": [
    {
     "data": {
      "image/png": "[encoded data removed]",
      "text/plain": [
       "<Figure size 864x288 with 1 Axes>"
      ]
     },
     "metadata": {
      "needs_background": "light"
     },
     "output_type": "display_data"
    }
   ],
   "source": [
    "from pandas import DataFrame\n",
    "from sisyphus import ValueIteration\n",
    "\n",
    "## Initialize canvas.\n",
    "fig, ax = plt.subplots(1,1,figsize=(12,4))\n",
    "\n",
    "## Initialize environment.\n",
    "gym = DecisionTree()\n",
    "\n",
    "## Iterate over beta values.\n",
    "data = []\n",
    "for beta in np.linspace(1,0,11):\n",
    "\n",
    "    ## Perform Q-value iteration.\n",
    "    qvi = ValueIteration(policy='betamax', beta=beta, gamma=0.99)\n",
    "    qvi = qvi.fit(gym)\n",
    "    \n",
    "    data.append( dict(beta=beta, b1=qvi.Q[0], b2=qvi.Q[1]) )\n",
    "    \n",
    "## Concatenate.\n",
    "data = DataFrame(data).melt('beta', var_name='branch', value_name='Q')\n",
    "\n",
    "sns.barplot('beta', 'Q', 'branch', data=data, order=np.linspace(1,0,11), ax=ax)\n",
    "ax.set_xticklabels(np.linspace(1,0,11).round(1));\n",
    "plt.tight_layout()"
   ]
  }
 ],
 "metadata": {
  "kernelspec": {
   "display_name": "Python 3",
   "language": "python",
   "name": "python3"
  },
  "language_info": {
   "codemirror_mode": {
    "name": "ipython",
    "version": 3
   },
   "file_extension": ".py",
   "mimetype": "text/x-python",
   "name": "python",
   "nbconvert_exporter": "python",
   "pygments_lexer": "ipython3",
   "version": "3.7.0"
  }
 },
 "nbformat": 4,
 "nbformat_minor": 2
}
