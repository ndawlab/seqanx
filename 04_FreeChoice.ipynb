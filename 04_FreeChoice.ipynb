{
 "cells": [
  {
   "cell_type": "code",
   "execution_count": 1,
   "metadata": {},
   "outputs": [],
   "source": [
    "import numpy as np\n",
    "import matplotlib.pyplot as plt\n",
    "import seaborn as sns\n",
    "from pandas import DataFrame, concat\n",
    "from sisyphus import ModelFree, ValueIteration\n",
    "from sisyphus.envs import FreeChoice\n",
    "from sisyphus.misc import softmax\n",
    "from tqdm import tqdm\n",
    "%matplotlib inline\n",
    "\n",
    "#~~~~~~~~~~~~~~~~~~~~~~~~~~~~~~~~~~~~~~~~~~#\n",
    "### Define parameters.\n",
    "#~~~~~~~~~~~~~~~~~~~~~~~~~~~~~~~~~~~~~~~~~~#\n",
    "\n",
    "## Initialize environment.\n",
    "gym = FreeChoice()\n",
    "\n",
    "## Define exploration schedule.\n",
    "schedule = np.logspace(0,1,100)\n",
    "\n",
    "#~~~~~~~~~~~~~~~~~~~~~~~~~~~~~~~~~~~~~~~~~~#\n",
    "### Main loop.\n",
    "#~~~~~~~~~~~~~~~~~~~~~~~~~~~~~~~~~~~~~~~~~~#\n",
    "\n",
    "data = []\n",
    "for beta in [1.0, 0.5, 0.0]:\n",
    "    \n",
    "    ## Initialize agent.\n",
    "    agent = ModelFree('betamax', eta=0.1, gamma=1, beta=beta)\n",
    "    \n",
    "    for _ in tqdm(range(100)):\n",
    "        \n",
    "        ## Solve for Q-values.\n",
    "        agent = agent.fit(gym, schedule=schedule, overwrite=True)\n",
    "        \n",
    "        ## Compute choice likelihood.\n",
    "        theta = softmax(agent.Q[:2] * schedule[-1])\n",
    "\n",
    "        ## Store results.\n",
    "        data.append( dict(beta=beta, theta=theta[0]) )\n",
    "\n",
    "#~~~~~~~~~~~~~~~~~~~~~~~~~~~~~~~~~~~~~~~~~~#\n",
    "### Plotting.\n",
    "#~~~~~~~~~~~~~~~~~~~~~~~~~~~~~~~~~~~~~~~~~~#\n",
    "        \n",
    "## Convert to DataFrame.\n",
    "data = DataFrame(data)\n",
    "\n",
    "sns.pointplot('beta','theta',data=data)"
   ]
  }
 ],
 "metadata": {
  "kernelspec": {
   "display_name": "Python 3",
   "language": "python",
   "name": "python3"
  },
  "language_info": {
   "codemirror_mode": {
    "name": "ipython",
    "version": 3
   },
   "file_extension": ".py",
   "mimetype": "text/x-python",
   "name": "python",
   "nbconvert_exporter": "python",
   "pygments_lexer": "ipython3",
   "version": "3.7.0"
  }
 },
 "nbformat": 4,
 "nbformat_minor": 2
}
