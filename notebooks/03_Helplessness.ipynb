{
 "cells": [
  {
   "cell_type": "markdown",
   "metadata": {},
   "source": [
    "# Demonstration 4: Transition to Depression"
   ]
  },
  {
   "cell_type": "code",
   "execution_count": 1,
   "metadata": {},
   "outputs": [],
   "source": [
    "import os\n",
    "import numpy as np\n",
    "import matplotlib.pyplot as plt\n",
    "import matplotlib.gridspec as gridspec\n",
    "import seaborn as sns\n",
    "from sisyphus.envs import Helplessness\n",
    "from mpl_toolkits.axes_grid1 import make_axes_locatable\n",
    "sns.set_style('white')\n",
    "sns.set_context('notebook', font_scale=1.5)\n",
    "img_dir = os.path.join('..','figures')\n",
    "%matplotlib inline"
   ]
  },
  {
   "cell_type": "markdown",
   "metadata": {},
   "source": [
    "## Value Iteration"
   ]
  },
  {
   "cell_type": "code",
   "execution_count": 2,
   "metadata": {},
   "outputs": [
    {
     "data": {
      "image/png": "[encoded data removed]",
      "text/plain": [
       "<Figure size 1152x576 with 9 Axes>"
      ]
     },
     "metadata": {
      "needs_background": "light"
     },
     "output_type": "display_data"
    }
   ],
   "source": [
    "from sisyphus.mdp import ValueIteration\n",
    "from palettable.colorbrewer.diverging import RdBu_9 as palette\n",
    "\n",
    "#~~~~~~~~~~~~~~~~~~~~~~~~~~~~~~~~~~~~~~~~~~#\n",
    "### Define parameters.\n",
    "#~~~~~~~~~~~~~~~~~~~~~~~~~~~~~~~~~~~~~~~~~~#\n",
    "\n",
    "## Simulation parameters.\n",
    "weights = [1.0, 0.6]\n",
    "gamma = 0.95\n",
    "max_iters = [3,5,100]\n",
    "\n",
    "#~~~~~~~~~~~~~~~~~~~~~~~~~~~~~~~~~~~~~~~~~~#\n",
    "### Main loop.\n",
    "#~~~~~~~~~~~~~~~~~~~~~~~~~~~~~~~~~~~~~~~~~~#\n",
    "\n",
    "## Initialize figure.\n",
    "fig = plt.figure(figsize=(16,8))\n",
    "cmap = palette.get_mpl_colormap()\n",
    "colors = palette.hex_colors\n",
    "titles = [['A','B','C','D'],['E','F','G']]\n",
    "\n",
    "## Initialize plots.\n",
    "gs1 = gridspec.GridSpec(1,4)\n",
    "gs1.update(left=0.01, right=0.95, bottom=0.5, top=0.95, hspace=0, wspace=0.02)\n",
    "\n",
    "gs2 = gridspec.GridSpec(1,3)\n",
    "gs2.update(left=0.25, right=0.95, bottom=0.025, top=0.425, hspace=0, wspace=0.02)\n",
    "\n",
    "gs = [gs1,gs2]\n",
    "\n",
    "## Initialize environment.\n",
    "gym = Helplessness()\n",
    "\n",
    "## Main loop.\n",
    "for i, w in enumerate(weights):\n",
    "        \n",
    "    for j, max_iter in enumerate(max_iters):\n",
    "        \n",
    "        #~~~~~~~~~~~~~~~~~~~~~~~~~~~~~~~~~~~~~~~~~~#\n",
    "        ### Value iteration.\n",
    "        #~~~~~~~~~~~~~~~~~~~~~~~~~~~~~~~~~~~~~~~~~~#\n",
    "        \n",
    "        ## Initialize agent.\n",
    "        qvi = ValueIteration(policy='pessimism', gamma=gamma, w=w, max_iter=max_iter)\n",
    "        \n",
    "        ## Solve for Q-values.\n",
    "        qvi = qvi.fit(gym, verbose=False)\n",
    "        \n",
    "        ## Fill in terminal states.\n",
    "        V = qvi.V[np.arange(qvi.V.size) != 45].copy()\n",
    "        V[gym.terminal[:2]] = [10,-10]\n",
    "        V = V.reshape(5, 15)\n",
    "                \n",
    "        #~~~~~~~~~~~~~~~~~~~~~~~~~~~~~~~~~~~~~~~~~~#\n",
    "        ### Plotting.\n",
    "        #~~~~~~~~~~~~~~~~~~~~~~~~~~~~~~~~~~~~~~~~~~#\n",
    "\n",
    "        ## Plot environment.\n",
    "        if not i and not j:\n",
    "        \n",
    "            ax = plt.subplot(gs[i][j])\n",
    "            ax = gym.plot_lh(reward_color=colors[-1], punishment_color=colors[0], ax=ax, \n",
    "                             annot_kws=dict(fontsize=14,fontweight='bold',color='w'))\n",
    "            ax.text(0,0,titles[i][j],ha='left',va='bottom',fontsize=28,fontweight='bold')\n",
    "            \n",
    "        ## Plot value.\n",
    "        ax = plt.subplot(gs[i][j+1-i])\n",
    "        if j == 2:\n",
    "            \n",
    "            ## Setup colorbar.\n",
    "            divider = make_axes_locatable(ax)\n",
    "            cax = divider.append_axes(\"right\", size=\"5%\", pad=0.05)  \n",
    "            \n",
    "            ## Plot value.\n",
    "            sns.heatmap(V, cmap=cmap, center=0, vmin=-10, vmax=10, cbar=True,\n",
    "                        xticklabels=[], yticklabels=[], ax=ax, cbar_ax=cax)\n",
    "            \n",
    "            ## Update colorbar.\n",
    "            cbar = ax.collections[0].colorbar\n",
    "            cbar.set_label(r'$V(s)$', fontsize=20)\n",
    "            \n",
    "        else:\n",
    "            \n",
    "            ## Plot value.\n",
    "            sns.heatmap(V, cmap=cmap, center=0, vmin=-10, vmax=10, cbar=False,\n",
    "                        xticklabels=[], yticklabels=[], ax=ax)\n",
    "            \n",
    "        ## Plot policy.\n",
    "        if j == 2 and w == 1:\n",
    "            \n",
    "            ax = gym.plot_policy(ax, qvi.pi, color='w', head_width=0.15)\n",
    "            \n",
    "        elif j == 2:\n",
    "            \n",
    "            ax.scatter(14.25, 2.5, s=250, marker=r'$\\circlearrowright$', color='k')\n",
    "            \n",
    "        ## Draw plot legends.\n",
    "        ax.text(0,0,titles[i][j+1-i],ha='left',va='bottom',fontsize=28,fontweight='bold')\n",
    "            \n",
    "plt.savefig(os.path.join(img_dir, '03_lh.png'), dpi=600)"
   ]
  }
 ],
 "metadata": {
  "kernelspec": {
   "display_name": "Python 3",
   "language": "python",
   "name": "python3"
  },
  "language_info": {
   "codemirror_mode": {
    "name": "ipython",
    "version": 3
   },
   "file_extension": ".py",
   "mimetype": "text/x-python",
   "name": "python",
   "nbconvert_exporter": "python",
   "pygments_lexer": "ipython3",
   "version": "3.7.1"
  }
 },
 "nbformat": 4,
 "nbformat_minor": 2
}
