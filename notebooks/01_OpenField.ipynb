{
 "cells": [
  {
   "cell_type": "markdown",
   "metadata": {},
   "source": [
    "# Demonstration 1: Open Field"
   ]
  },
  {
   "cell_type": "code",
   "execution_count": 1,
   "metadata": {},
   "outputs": [],
   "source": [
    "import os\n",
    "import numpy as np\n",
    "import matplotlib.pyplot as plt\n",
    "import matplotlib.gridspec as gridspec\n",
    "import seaborn as sns\n",
    "from sisyphus.envs import OpenField\n",
    "sns.set_style('white')\n",
    "sns.set_context('notebook', font_scale=1.5)\n",
    "img_dir = os.path.join('..','figures')\n",
    "%matplotlib inline"
   ]
  },
  {
   "cell_type": "markdown",
   "metadata": {},
   "source": [
    "## Value Iteration"
   ]
  },
  {
   "cell_type": "code",
   "execution_count": 2,
   "metadata": {},
   "outputs": [
    {
     "name": "stderr",
     "output_type": "stream",
     "text": [
      "/Users/szoro/Desktop/projects/seqanx/sisyphus/mdp/_dp.py:144: UserWarning: Reached maximum iterations.\n",
      "  warn('Reached maximum iterations.')\n"
     ]
    },
    {
     "data": {
      "image/png": "[encoded data removed]",
      "text/plain": [
       "<Figure size 1152x288 with 5 Axes>"
      ]
     },
     "metadata": {
      "needs_background": "light"
     },
     "output_type": "display_data"
    }
   ],
   "source": [
    "from sisyphus.mdp import ValueIteration\n",
    "from mpl_toolkits.axes_grid1 import make_axes_locatable\n",
    "from palettable.colorbrewer.diverging import RdBu_9 as palette\n",
    "\n",
    "#~~~~~~~~~~~~~~~~~~~~~~~~~~~~~~~~~~~~~~~~~~#\n",
    "### Define parameters.\n",
    "#~~~~~~~~~~~~~~~~~~~~~~~~~~~~~~~~~~~~~~~~~~#\n",
    "\n",
    "## Simulation parameters.\n",
    "weights = [1.0, 0.5, 0.0]\n",
    "\n",
    "#~~~~~~~~~~~~~~~~~~~~~~~~~~~~~~~~~~~~~~~~~~#\n",
    "### Environment setup and visualization.\n",
    "#~~~~~~~~~~~~~~~~~~~~~~~~~~~~~~~~~~~~~~~~~~#\n",
    "\n",
    "## Initialize figure.\n",
    "fig = plt.figure(figsize=(16,4))\n",
    "cmap = palette.get_mpl_colormap()\n",
    "colors = palette.hex_colors\n",
    "\n",
    "## Initialize plots and divider.\n",
    "gs = gridspec.GridSpec(1,4)\n",
    "gs.update(left=0.01, right=0.94, bottom=0.04, top=0.9, hspace=0, wspace=0.02)\n",
    "\n",
    "## Initialize environment.\n",
    "gym = OpenField()\n",
    "\n",
    "## Plot environment.\n",
    "ax = plt.subplot(gs[0])\n",
    "ax = gym.plot_field(reward_color=colors[-1], punishment_color=colors[0], ax=ax, \n",
    "                    annot_kws=dict(fontsize=17,fontweight='semibold',color='w'))\n",
    "ax.text(0,0,'A',ha='left',va='bottom',fontsize=28,fontweight='bold')\n",
    "\n",
    "#~~~~~~~~~~~~~~~~~~~~~~~~~~~~~~~~~~~~~~~~~~#\n",
    "### Value iteration and visualization.\n",
    "#~~~~~~~~~~~~~~~~~~~~~~~~~~~~~~~~~~~~~~~~~~#\n",
    "\n",
    "for i, (w, label) in enumerate(zip(weights, ['B','C','D'])):\n",
    "    \n",
    "    ## Initialize value iteration.\n",
    "    qvi = ValueIteration(policy='pessimism', gamma=0.95, w=w)\n",
    "    \n",
    "    ## Solve for Q-values.\n",
    "    qvi = qvi.fit(gym)\n",
    "    V = qvi.V.reshape(gym.shape)\n",
    "    V[1,[2,-3]] = [10, -10]         # Fill in terminal states.\n",
    "    \n",
    "    ## Solve for policy.\n",
    "    pi = qvi.pi\n",
    "    \n",
    "    ## Initialize canvas.\n",
    "    ax = plt.subplot(gs[i+1])\n",
    "    if i == 2:\n",
    "        cbar = True\n",
    "        divider = make_axes_locatable(ax)\n",
    "        cbar_ax = divider.append_axes(\"right\", size=\"5%\", pad=0.05)\n",
    "    else:\n",
    "        cbar = False\n",
    "        cbar_ax = None\n",
    "    \n",
    "    ## Plotting.\n",
    "    sns.heatmap(V, cmap=cmap, center=0, vmin=-10, vmax=10, cbar=cbar,\n",
    "                xticklabels=[], yticklabels=[], ax=ax, cbar_ax=cbar_ax)\n",
    "    ax = gym.plot_policy(ax, pi, color=np.where(np.abs(V.flatten()[pi]) < 2, '0.4', 'w'))\n",
    "    ax.text(0,0,label,ha='left',va='bottom',fontsize=28,fontweight='bold')\n",
    "\n",
    "    ## Update colorbar.\n",
    "    if cbar:\n",
    "        cbar = ax.collections[0].colorbar\n",
    "        cbar.set_label(r'$V(s)$', fontsize=20)\n",
    "    \n",
    "plt.savefig(os.path.join(img_dir, '01_field.png'), dpi=300)"
   ]
  }
 ],
 "metadata": {
  "kernelspec": {
   "display_name": "Python 3",
   "language": "python",
   "name": "python3"
  },
  "language_info": {
   "codemirror_mode": {
    "name": "ipython",
    "version": 3
   },
   "file_extension": ".py",
   "mimetype": "text/x-python",
   "name": "python",
   "nbconvert_exporter": "python",
   "pygments_lexer": "ipython3",
   "version": "3.7.1"
  }
 },
 "nbformat": 4,
 "nbformat_minor": 2
}
