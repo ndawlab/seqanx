{
 "cells": [
  {
   "cell_type": "markdown",
   "metadata": {},
   "source": [
    "# Demonstration 1: Open Field"
   ]
  },
  {
   "cell_type": "code",
   "execution_count": 1,
   "metadata": {},
   "outputs": [],
   "source": [
    "import numpy as np\n",
    "import matplotlib.pyplot as plt\n",
    "import matplotlib.gridspec as gridspec\n",
    "import seaborn as sns\n",
    "from sisyphus.envs import OpenField\n",
    "from mpl_toolkits.axes_grid1 import make_axes_locatable\n",
    "sns.set_style('white')\n",
    "sns.set_context('notebook', font_scale=1.5)\n",
    "%matplotlib inline"
   ]
  },
  {
   "cell_type": "markdown",
   "metadata": {},
   "source": [
    "## Value Iteration"
   ]
  },
  {
   "cell_type": "code",
   "execution_count": 2,
   "metadata": {},
   "outputs": [
    {
     "data": {
      "image/png": "[encoded data removed]",
      "text/plain": [
       "<Figure size 1152x288 with 5 Axes>"
      ]
     },
     "metadata": {
      "needs_background": "light"
     },
     "output_type": "display_data"
    }
   ],
   "source": [
    "from sisyphus.mdp import ValueIteration\n",
    "from palettable.colorbrewer.diverging import RdBu_9 as palette\n",
    "\n",
    "#~~~~~~~~~~~~~~~~~~~~~~~~~~~~~~~~~~~~~~~~~~#\n",
    "### Define parameters.\n",
    "#~~~~~~~~~~~~~~~~~~~~~~~~~~~~~~~~~~~~~~~~~~#\n",
    "\n",
    "## Simulation parameters.\n",
    "betas = [1.0, 0.5, 0.0]\n",
    "\n",
    "#~~~~~~~~~~~~~~~~~~~~~~~~~~~~~~~~~~~~~~~~~~#\n",
    "### Value Iteration.\n",
    "#~~~~~~~~~~~~~~~~~~~~~~~~~~~~~~~~~~~~~~~~~~#\n",
    "\n",
    "## Initialize environment.\n",
    "gym = OpenField()\n",
    "\n",
    "V = np.zeros((3,*gym.shape))\n",
    "for i, beta in enumerate(betas):\n",
    "    \n",
    "    ## Initialize value iteration.\n",
    "    qvi = ValueIteration(policy='betamax', gamma=0.95, beta=beta)\n",
    "    \n",
    "    ## Solve for Q-values.\n",
    "    qvi = qvi.fit(gym)\n",
    "    V[i] = qvi.V.reshape(gym.shape)\n",
    "    \n",
    "## Fill in terminal states.\n",
    "V[:,5,[2,-3]] = [10, -10]\n",
    "\n",
    "#~~~~~~~~~~~~~~~~~~~~~~~~~~~~~~~~~~~~~~~~~~#\n",
    "### Plotting.\n",
    "#~~~~~~~~~~~~~~~~~~~~~~~~~~~~~~~~~~~~~~~~~~#\n",
    "    \n",
    "## Initialize figure.\n",
    "fig = plt.figure(figsize=(16,4))\n",
    "cmap = palette.get_mpl_colormap()\n",
    "colors = palette.hex_colors\n",
    "\n",
    "## Initialize plots and divider.\n",
    "gs = gridspec.GridSpec(1,4)\n",
    "gs.update(left=0.01, right=0.94, bottom=0.04, top=0.9, hspace=0, wspace=0.02)\n",
    "\n",
    "## Plot environment.\n",
    "ax = plt.subplot(gs[0])\n",
    "ax = gym.plot_field(reward_color=colors[-1], shock_color=colors[0], ax=ax, \n",
    "                    annot_kws=dict(fontsize=17,fontweight='semibold',color='w'))\n",
    "ax.text(0,0,'A',ha='left',va='bottom',fontsize=28,fontweight='bold')\n",
    "\n",
    "## Plot best-case learning (beta = 1).\n",
    "ax = plt.subplot(gs[1])\n",
    "sns.heatmap(V[0], cmap=cmap, center=0, vmin=-10, vmax=10, cbar=False,\n",
    "            xticklabels=[], yticklabels=[], ax=ax)\n",
    "ax.text(0,0,'B',ha='left',va='bottom',fontsize=28,fontweight='bold')\n",
    "\n",
    "## Plot random learning (beta = 0.5).\n",
    "ax = plt.subplot(gs[2])\n",
    "sns.heatmap(V[1], cmap=cmap, center=0, vmin=-10, vmax=10, cbar=False, \n",
    "            xticklabels=[], yticklabels=[], ax=ax)\n",
    "ax.text(0,0,'C',ha='left',va='bottom',fontsize=28,fontweight='bold')\n",
    "\n",
    "## Plot worst-case learning (beta = 0.0).\n",
    "ax = plt.subplot(gs[3])\n",
    "divider = make_axes_locatable(ax)\n",
    "cax = divider.append_axes(\"right\", size=\"5%\", pad=0.05)\n",
    "sns.heatmap(V[2], cmap=cmap, center=0, vmin=-10, vmax=10, cbar=True,\n",
    "            xticklabels=[], yticklabels=[], ax=ax, cbar_ax=cax)\n",
    "ax.text(0,0,'D',ha='left',va='bottom',fontsize=28,fontweight='bold')\n",
    "\n",
    "## Update colorbar.\n",
    "cbar = ax.collections[0].colorbar\n",
    "cbar.set_label(r'$V(s)$', fontsize=20)\n",
    "\n",
    "plt.savefig('figures/01_field.png', dpi=180)"
   ]
  }
 ],
 "metadata": {
  "kernelspec": {
   "display_name": "Python 3",
   "language": "python",
   "name": "python3"
  },
  "language_info": {
   "codemirror_mode": {
    "name": "ipython",
    "version": 3
   },
   "file_extension": ".py",
   "mimetype": "text/x-python",
   "name": "python",
   "nbconvert_exporter": "python",
   "pygments_lexer": "ipython3",
   "version": "3.7.1"
  }
 },
 "nbformat": 4,
 "nbformat_minor": 2
}
