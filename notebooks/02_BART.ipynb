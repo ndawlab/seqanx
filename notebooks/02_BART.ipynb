{
 "cells": [
  {
   "cell_type": "markdown",
   "metadata": {},
   "source": [
    "# Demonstration 2: Balloon Analog Risk Task"
   ]
  },
  {
   "cell_type": "code",
   "execution_count": 1,
   "metadata": {},
   "outputs": [],
   "source": [
    "import os\n",
    "import numpy as np\n",
    "import matplotlib.pyplot as plt\n",
    "import matplotlib.gridspec as gridspec\n",
    "import seaborn as sns\n",
    "from sisyphus.envs import BART\n",
    "sns.set_style('white')\n",
    "sns.set_context('notebook', font_scale=1.3)\n",
    "img_dir = os.path.join('..','figures')\n",
    "%matplotlib inline"
   ]
  },
  {
   "cell_type": "markdown",
   "metadata": {},
   "source": [
    "## Value Iteration"
   ]
  },
  {
   "cell_type": "code",
   "execution_count": 2,
   "metadata": {},
   "outputs": [
    {
     "data": {
      "image/png": "[encoded data removed]",
      "text/plain": [
       "<Figure size 864x216 with 4 Axes>"
      ]
     },
     "metadata": {
      "needs_background": "light"
     },
     "output_type": "display_data"
    }
   ],
   "source": [
    "from sisyphus.mdp import ValueIteration\n",
    "from scipy.stats import norm\n",
    "\n",
    "#~~~~~~~~~~~~~~~~~~~~~~~~~~~~~~~~~~~~~~~~~~#\n",
    "### Define parameters.\n",
    "#~~~~~~~~~~~~~~~~~~~~~~~~~~~~~~~~~~~~~~~~~~#\n",
    "\n",
    "## Simulation parameters.\n",
    "weights = [1.0, 0.6, 0.2]\n",
    "\n",
    "## Environment parameters.\n",
    "pumps = 20\n",
    "means = [16, 8] \n",
    "sd = 0.5\n",
    "\n",
    "#~~~~~~~~~~~~~~~~~~~~~~~~~~~~~~~~~~~~~~~~~~#\n",
    "### Main loop.\n",
    "#~~~~~~~~~~~~~~~~~~~~~~~~~~~~~~~~~~~~~~~~~~#\n",
    "\n",
    "## Initialize figure.\n",
    "fig = plt.figure(figsize=(12,3))\n",
    "x = np.linspace(0,pumps,1000)    \n",
    "\n",
    "## Initialize plots and divider.\n",
    "gs1 = gridspec.GridSpec(2,1)\n",
    "gs1.update(left=0.05, right=0.33, bottom=0.18, top=0.96, hspace=0.15, wspace=0)\n",
    "\n",
    "gs2 = gridspec.GridSpec(1,2)\n",
    "gs2.update(left=0.425, right=0.99, bottom=0.18, top=0.96, hspace=0, wspace=0.07)\n",
    "\n",
    "## Define color palettes.\n",
    "blues = sns.color_palette('Blues_r', n_colors=6).as_hex()\n",
    "reds = sns.color_palette('Reds_r', n_colors=6).as_hex()\n",
    "\n",
    "for i, (mu, palette, label) in enumerate(zip(means, [blues,reds], ['B','C'])):\n",
    "    \n",
    "    #~~~~~~~~~~~~~~~~~~~~~~~~~~~~~~~~~~~~~~~~~~#\n",
    "    ### Environment setup and visualization.\n",
    "    #~~~~~~~~~~~~~~~~~~~~~~~~~~~~~~~~~~~~~~~~~~#\n",
    "    \n",
    "    ## Initialize environment.\n",
    "    gym = BART(pumps=pumps, mu=mu, sd=sd)\n",
    "    \n",
    "    ## Plot environment.\n",
    "    ax = plt.subplot(gs1[i])\n",
    "    ax.plot(x, norm(means[i],sd).cdf(x), color=palette[0], lw=3.5)\n",
    "    ax.set(xlim=(0,pumps), xticks=[], yticks=[0,1])\n",
    "\n",
    "    if not i: ax.annotate('A', (0,0), (0.025,1), 'axes fraction', fontsize=20, \n",
    "                          fontweight='bold', ha='left', va='top')\n",
    "    else: ax.set(xticks=np.arange(0,pumps+1,4), xlabel='Number of Pumps')\n",
    "    \n",
    "    #~~~~~~~~~~~~~~~~~~~~~~~~~~~~~~~~~~~~~~~~~~#\n",
    "    ### Value iteration and visualization.\n",
    "    #~~~~~~~~~~~~~~~~~~~~~~~~~~~~~~~~~~~~~~~~~~#\n",
    "    \n",
    "    ## Initialize canvas.\n",
    "    ax = plt.subplot(gs2[i])\n",
    "    ax.set(ylim=(0,pumps))\n",
    "    \n",
    "    ## Iterate over weights.\n",
    "    for j, w in enumerate(weights):\n",
    "    \n",
    "        ## Initialize value iteration.\n",
    "        qvi = ValueIteration(policy='pessimism', gamma=1.0, w=w)\n",
    "\n",
    "        ## Solve for Q-values.\n",
    "        qvi = qvi.fit(gym)\n",
    "\n",
    "        ## Solve for policy.\n",
    "        pi = qvi.pi\n",
    "        n_pumps = len(pi) - 1\n",
    "                \n",
    "        ## Plot policy.\n",
    "        ax.bar(j,n_pumps,color=palette[j])\n",
    "        \n",
    "    ## Add information.\n",
    "    ax.set(xticks=[0,1,2], xticklabels=['$w = %0.1f$' %w for w in weights], yticks=[])\n",
    "    if not i: ax.set(yticks=np.arange(0,pumps+1,4), ylabel='Number of Pumps')\n",
    "    ax.annotate(label, (0,0), (0.025,1), 'axes fraction', fontsize=20, \n",
    "                fontweight='bold', ha='left', va='top')\n",
    "        \n",
    "## Add joint label.\n",
    "ax.annotate('Probability of Loss', (0,0), (0.005,0.55), 'figure fraction', rotation=90, \n",
    "            fontsize=16, ha='left', va='center')\n",
    "\n",
    "sns.despine()\n",
    "plt.savefig(os.path.join(img_dir, '02_bart.png'), dpi=180)"
   ]
  }
 ],
 "metadata": {
  "kernelspec": {
   "display_name": "Python 3",
   "language": "python",
   "name": "python3"
  },
  "language_info": {
   "codemirror_mode": {
    "name": "ipython",
    "version": 3
   },
   "file_extension": ".py",
   "mimetype": "text/x-python",
   "name": "python",
   "nbconvert_exporter": "python",
   "pygments_lexer": "ipython3",
   "version": "3.7.1"
  }
 },
 "nbformat": 4,
 "nbformat_minor": 2
}
