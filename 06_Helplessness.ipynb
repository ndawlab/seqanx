{
 "cells": [
  {
   "cell_type": "markdown",
   "metadata": {},
   "source": [
    "# Demonstration 6: Longitudinal Transition"
   ]
  },
  {
   "cell_type": "code",
   "execution_count": 1,
   "metadata": {},
   "outputs": [],
   "source": [
    "import numpy as np\n",
    "import matplotlib.pyplot as plt\n",
    "import matplotlib.gridspec as gridspec\n",
    "import seaborn as sns\n",
    "from sisyphus.envs import Helplessness\n",
    "sns.set_style('white')\n",
    "sns.set_context('notebook', font_scale=1.5)\n",
    "%matplotlib inline"
   ]
  },
  {
   "cell_type": "markdown",
   "metadata": {},
   "source": [
    "## Value Iteration"
   ]
  },
  {
   "cell_type": "code",
   "execution_count": 24,
   "metadata": {},
   "outputs": [],
   "source": [
    "from sisyphus.mdp import ValueIteration\n",
    "\n",
    "#~~~~~~~~~~~~~~~~~~~~~~~~~~~~~~~~~~~~~~~~~~#\n",
    "### Define parameters.\n",
    "#~~~~~~~~~~~~~~~~~~~~~~~~~~~~~~~~~~~~~~~~~~#\n",
    "\n",
    "\n",
    "#~~~~~~~~~~~~~~~~~~~~~~~~~~~~~~~~~~~~~~~~~~#\n",
    "### Value iteration.\n",
    "#~~~~~~~~~~~~~~~~~~~~~~~~~~~~~~~~~~~~~~~~~~#\n",
    "\n",
    "## Initialize environment.\n",
    "gym = Helplessness()\n",
    "\n",
    "## Initialize value iteration.\n",
    "qvi = ValueIteration(policy='betamax', gamma=0.95, beta=1)\n",
    "qvi = qvi.fit(gym)\n",
    "V_init = qvi.V.copy()\n",
    "V_init[gym.terminal] = [10,-10,5,0]\n",
    "Q_init = qvi.Q.copy()\n",
    "\n",
    "## First iterations.\n",
    "qvi = ValueIteration(policy='betamax', gamma=0.95, beta=0, max_iter=5)\n",
    "qvi = qvi.fit(gym, Q_init, verbose=False)\n",
    "V_early = qvi.V.copy()\n",
    "V_early[gym.terminal] = [10,-10,5,0]\n",
    "\n",
    "## \n",
    "qvi = qvi.fit(gym, qvi.Q.copy(), verbose=False)\n",
    "V_mid = qvi.V.copy()\n",
    "V_mid[gym.terminal] = [10,-10,5,0]\n",
    "\n",
    "qvi = qvi.fit(gym, qvi.Q.copy(), verbose=False)\n",
    "qvi = qvi.fit(gym, qvi.Q.copy(), verbose=False)\n",
    "V_late = qvi.V.copy()\n",
    "V_late[gym.terminal] = [10,-10,5,0]"
   ]
  },
  {
   "cell_type": "code",
   "execution_count": 25,
   "metadata": {},
   "outputs": [
    {
     "data": {
      "image/png": "[encoded data removed]",
      "text/plain": [
       "<Figure size 864x576 with 8 Axes>"
      ]
     },
     "metadata": {
      "needs_background": "light"
     },
     "output_type": "display_data"
    }
   ],
   "source": [
    "fig, axes = plt.subplots(2,2,figsize=(12,8))\n",
    "sns.heatmap(V_init.reshape(gym.shape), vmin=-10, vmax=10, center=0, ax=axes[0,0])\n",
    "sns.heatmap(V_early.reshape(gym.shape), vmin=-10, vmax=10, center=0, ax=axes[0,1])\n",
    "sns.heatmap(V_mid.reshape(gym.shape), vmin=-10, vmax=10, center=0, ax=axes[1,0])\n",
    "sns.heatmap(V_late.reshape(gym.shape), vmin=-10, vmax=10, center=0, ax=axes[1,1])\n",
    "for ax in axes.flatten(): ax.set(xticks=[], yticks=[])\n",
    "plt.tight_layout()"
   ]
  },
  {
   "cell_type": "code",
   "execution_count": null,
   "metadata": {},
   "outputs": [],
   "source": []
  }
 ],
 "metadata": {
  "kernelspec": {
   "display_name": "Python 3",
   "language": "python",
   "name": "python3"
  },
  "language_info": {
   "codemirror_mode": {
    "name": "ipython",
    "version": 3
   },
   "file_extension": ".py",
   "mimetype": "text/x-python",
   "name": "python",
   "nbconvert_exporter": "python",
   "pygments_lexer": "ipython3",
   "version": "3.7.2"
  }
 },
 "nbformat": 4,
 "nbformat_minor": 2
}
